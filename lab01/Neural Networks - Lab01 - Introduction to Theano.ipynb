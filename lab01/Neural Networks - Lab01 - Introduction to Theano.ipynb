{
 "cells": [
  {
   "cell_type": "markdown",
   "metadata": {},
   "source": [
    "# Basic machine learning problems with Theano"
   ]
  },
  {
   "cell_type": "markdown",
   "metadata": {},
   "source": [
    "1. Work through the following steps of the tutorial on http://deeplearning.net/software/theano/tutorial/index.html :\n",
    "    1. Baby steps - Algebra\n",
    "    2. More examples\n",
    "    3. Derivatives in Theano: Computing gradients\n",
    "2. Logistic regression:\n",
    "    1. Analyze the logistic regression code in http://deeplearning.net/software/theano/tutorial/examples.html#a-real-example-logistic-regression\n",
    "    1. Modify the example code and apply it the Iris data set mapped to two classes (Iris setosa vs. not Iris Setosa)\n",
    "3. Linear regression:\n",
    "    1. Look at the code from the lecture and display the population/profit graph\n",
    "    2. Modyify the logistic regression co\n"
   ]
  },
  {
   "cell_type": "code",
   "execution_count": null,
   "metadata": {
    "collapsed": true
   },
   "outputs": [],
   "source": []
  }
 ],
 "metadata": {
  "kernelspec": {
   "display_name": "Python 3",
   "language": "python",
   "name": "python3"
  },
  "language_info": {
   "codemirror_mode": {
    "name": "ipython",
    "version": 3
   },
   "file_extension": ".py",
   "mimetype": "text/x-python",
   "name": "python",
   "nbconvert_exporter": "python",
   "pygments_lexer": "ipython3",
   "version": "3.4.3"
  }
 },
 "nbformat": 4,
 "nbformat_minor": 0
}
