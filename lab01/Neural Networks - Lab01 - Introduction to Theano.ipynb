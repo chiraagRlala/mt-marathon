{
 "cells": [
  {
   "cell_type": "markdown",
   "metadata": {},
   "source": [
    "# Basic machine learning problems with Theano"
   ]
  },
  {
   "cell_type": "markdown",
   "metadata": {},
   "source": [
    "## Setup\n",
    "\n",
    "To setup your enviroment, log into your student machine using your credentials, open Konsole and execute the following commands:\n",
    "    \n",
    "    wget http://odkrywka.wmi.amu.edu.pl/static/data/mtm/mjdlab.tgz\n",
    "    tar -xzf mjdlab.tgz\n",
    "    source mjdlab/bin/activate\n",
    "    \n",
    "The prompt should change to something including \"mjdlab\", get me if it does not!\n",
    "\n",
    "Next run jupyter\n",
    "    \n",
    "    jupyter notebook\n",
    "    \n",
    "This will probably run Konqueror, copy the address, open Chrome or Chromium and pass the URL, Konqueror will not work properly. "
   ]
  },
  {
   "cell_type": "markdown",
   "metadata": {},
   "source": [
    "## Tasks\n",
    "\n",
    "1. Work through the following steps of the tutorial on http://deeplearning.net/software/theano/tutorial/index.html :\n",
    "    1. Baby steps - Algebra\n",
    "    2. More examples\n",
    "    3. Derivatives in Theano: Computing gradients\n",
    "2. Logistic regression:\n",
    "    1. Analyze the logistic regression code in http://deeplearning.net/software/theano/tutorial/examples.html#a-real-example-logistic-regression\n",
    "    1. Modify the example code and apply it the Iris data set mapped to two classes (Iris setosa vs. not Iris Setosa)\n",
    "    1. Calculate the accuracy\n",
    "3. Linear regression:\n",
    "    1. Look at the code from the lecture and display the population/profit graph\n",
    "    2. Modify the logistic regression code so it can be used as a linear regression model. \n",
    "    3. Plot the graph."
   ]
  },
  {
   "cell_type": "code",
   "execution_count": null,
   "metadata": {
    "collapsed": true
   },
   "outputs": [],
   "source": []
  }
 ],
 "metadata": {
  "kernelspec": {
   "display_name": "Python 3",
   "language": "python",
   "name": "python3"
  },
  "language_info": {
   "codemirror_mode": {
    "name": "ipython",
    "version": 3
   },
   "file_extension": ".py",
   "mimetype": "text/x-python",
   "name": "python",
   "nbconvert_exporter": "python",
   "pygments_lexer": "ipython3",
   "version": "3.4.3"
  }
 },
 "nbformat": 4,
 "nbformat_minor": 0
}
